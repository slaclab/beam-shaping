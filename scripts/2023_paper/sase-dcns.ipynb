{
 "cells": [
  {
   "cell_type": "markdown",
   "metadata": {},
   "source": [
    "# ZFEL SASE\n",
    "\n",
    "Basic example of a SASE simulation."
   ]
  },
  {
   "cell_type": "code",
   "execution_count": null,
   "metadata": {
    "tags": []
   },
   "outputs": [],
   "source": [
    "import sys\n",
    "sys.path.append('/Users/nneveu/github/zfel')\n",
    "# (optional) installation\n",
    "# !pip install git+https://github.com/slaclab/zfel.git@devel"
   ]
  },
  {
   "cell_type": "code",
   "execution_count": null,
   "metadata": {
    "tags": []
   },
   "outputs": [],
   "source": [
    "from zfel import sase1d\n",
    "import zfel.plot\n",
    "\n",
    "import numpy as np\n",
    "\n",
    "import matplotlib.pyplot as plt\n",
    "%matplotlib inline\n",
    "%config InlineBackend.figure_format = 'retina'"
   ]
  },
  {
   "cell_type": "markdown",
   "metadata": {},
   "source": [
    "## Input "
   ]
  },
  {
   "cell_type": "code",
   "execution_count": null,
   "metadata": {},
   "outputs": [],
   "source": [
    "sase_input = dict(\n",
    "    npart   = 512,                       # n-macro-particles per bucket \n",
    "    s_steps = 200,                      # n-sample points along bunch length\n",
    "    z_steps = 200,                      # n-sample points along undulator\n",
    "    energy  = 4313.34e6,                # electron energy [eV]\n",
    "    eSpread = 0,                       # relative rms energy spread [1]\n",
    "    emitN   = 1.2e-6,                    # normalized transverse emittance [m-rad]\n",
    "    currentMax = 3400,                   # peak current [Ampere]\n",
    "    beta = 26,                          # mean beta [meter]\n",
    "    unduPeriod = 0.03,                 # undulator period [meter]\n",
    "    unduK = 3.5 ,          # undulator parameter, K [1], array could taper. \n",
    "    unduL = 70,                         # length of undulator [meter]\n",
    "    radWavelength=None,                 # Will calculate based on resonance condition for unduK[0]\n",
    "    random_seed=31,                     # for reproducibility\n",
    "    particle_position=None, #np.genfromtxt('./Inputs/particle_position.csv', delimiter=',') # or None,\n",
    "    hist_rule='square-root',             # 'square-root' or 'sturges' or 'rice-rule' or 'self-design', number \\\n",
    "                                       #  of intervals to generate the histogram of eta value in a bucket\n",
    "    iopt='sase',\n",
    "    P0 = 0                            # small seed input power [W]\n",
    ")"
   ]
  },
  {
   "cell_type": "markdown",
   "metadata": {},
   "source": [
    "## Intermediate parameters \n",
    "\n",
    "These are used internally"
   ]
  },
  {
   "cell_type": "code",
   "execution_count": null,
   "metadata": {},
   "outputs": [],
   "source": [
    "params = sase1d.params_calc(**sase_input)\n",
    "params.keys()"
   ]
  },
  {
   "cell_type": "markdown",
   "metadata": {},
   "source": [
    "## Run"
   ]
  },
  {
   "cell_type": "code",
   "execution_count": null,
   "metadata": {},
   "outputs": [],
   "source": [
    "%%time\n",
    "output = sase1d.sase(sase_input)"
   ]
  },
  {
   "cell_type": "code",
   "execution_count": null,
   "metadata": {},
   "outputs": [],
   "source": [
    "output.keys()"
   ]
  },
  {
   "cell_type": "markdown",
   "metadata": {},
   "source": [
    "## Plot output"
   ]
  },
  {
   "cell_type": "code",
   "execution_count": null,
   "metadata": {},
   "outputs": [],
   "source": [
    "plt.ylabel('Power (GW)')\n",
    "plt.xlabel('z (m)')\n",
    "plt.plot(output['z'], output['power_z']/1e9)"
   ]
  },
  {
   "cell_type": "code",
   "execution_count": null,
   "metadata": {},
   "outputs": [],
   "source": [
    "# Power evolution. z vs slice\n",
    "plt.imshow( (output['Er']**2 + output['Ei']**2).T, origin='lower')"
   ]
  },
  {
   "cell_type": "code",
   "execution_count": null,
   "metadata": {},
   "outputs": [],
   "source": [
    "zfel.plot.plot_log_power_z(output)"
   ]
  },
  {
   "cell_type": "code",
   "execution_count": null,
   "metadata": {},
   "outputs": [],
   "source": [
    "zfel.plot.plot_power_s(output)"
   ]
  },
  {
   "cell_type": "code",
   "execution_count": null,
   "metadata": {},
   "outputs": [],
   "source": [
    "# plot spectrum\n",
    "freq = output['freq']\n",
    "spectrum = output['spectrum']\n",
    "plt.plot(freq,spectrum[1:,-1])\n",
    "plt.xlabel('energy (eV)')\n",
    "plt.ylabel('spectrum (W/?)')"
   ]
  },
  {
   "cell_type": "markdown",
   "metadata": {},
   "source": [
    "# Particle history of final slice"
   ]
  },
  {
   "cell_type": "code",
   "execution_count": null,
   "metadata": {},
   "outputs": [],
   "source": [
    "theta = output['theta_final_slice_history']\n",
    "eta = output['eta_final_slice_history']\n",
    "_, n_step = theta.shape\n",
    "\n",
    "# particles, step along z\n",
    "theta.shape"
   ]
  },
  {
   "cell_type": "code",
   "execution_count": null,
   "metadata": {},
   "outputs": [],
   "source": [
    "# Function to plot a single step\n",
    "def plot_step(i):\n",
    "    \n",
    "    x = (theta[:,i] % 2*np.pi)/(2*np.pi) * 360\n",
    "    y = eta[:,i]*1e3\n",
    "    \n",
    "    fig, ax = plt.subplots()\n",
    "    \n",
    "    ax.set_title(f'Final slice, Step {i}')\n",
    "    ax.set_ylim(-6,6)\n",
    "    ax.set_xlabel(r'$\\theta\\, (deg)$')\n",
    "    ax.set_ylabel(r'$ \\eta\\, (10^{-3})$')\n",
    "    ax.scatter(x, y, marker='.', color='black')\n",
    "\n",
    "plot_step(n_step-1)"
   ]
  },
  {
   "cell_type": "code",
   "execution_count": null,
   "metadata": {},
   "outputs": [],
   "source": [
    "# interactive\n",
    "#from ipywidgets import interact\n",
    "#import ipywidgets as widgets\n",
    "\n",
    "#interact(plot_step, i=widgets.IntSlider(min=0, max=n_step-1, step=1, value=n_step//2));"
   ]
  }
 ],
 "metadata": {
  "kernelspec": {
   "display_name": "Python 3 (ipykernel)",
   "language": "python",
   "name": "python3"
  },
  "language_info": {
   "codemirror_mode": {
    "name": "ipython",
    "version": 3
   },
   "file_extension": ".py",
   "mimetype": "text/x-python",
   "name": "python",
   "nbconvert_exporter": "python",
   "pygments_lexer": "ipython3",
   "version": "3.8.12"
  },
  "widgets": {
   "application/vnd.jupyter.widget-state+json": {
    "state": {
     "10befcbcfdea46658fcc01d3fab26468": {
      "model_module": "@jupyter-widgets/controls",
      "model_module_version": "2.0.0",
      "model_name": "VBoxModel",
      "state": {
       "_dom_classes": [
        "widget-interact"
       ],
       "_model_module": "@jupyter-widgets/controls",
       "_model_module_version": "2.0.0",
       "_model_name": "VBoxModel",
       "_view_count": null,
       "_view_module": "@jupyter-widgets/controls",
       "_view_module_version": "2.0.0",
       "_view_name": "VBoxView",
       "box_style": "",
       "children": [
        "IPY_MODEL_6044706902824561aeeaca01b0c24168",
        "IPY_MODEL_aee62f8a99b44954acdc20a2aa310fd5"
       ],
       "layout": "IPY_MODEL_22a5834e32064286a5e3df1162212f90",
       "tabbable": null,
       "tooltip": null
      }
     },
     "119784c3681848ef91b72cea2fe43a5a": {
      "model_module": "@jupyter-widgets/controls",
      "model_module_version": "2.0.0",
      "model_name": "SliderStyleModel",
      "state": {
       "_model_module": "@jupyter-widgets/controls",
       "_model_module_version": "2.0.0",
       "_model_name": "SliderStyleModel",
       "_view_count": null,
       "_view_module": "@jupyter-widgets/base",
       "_view_module_version": "2.0.0",
       "_view_name": "StyleView",
       "description_width": "",
       "handle_color": null
      }
     },
     "22a5834e32064286a5e3df1162212f90": {
      "model_module": "@jupyter-widgets/base",
      "model_module_version": "2.0.0",
      "model_name": "LayoutModel",
      "state": {
       "_model_module": "@jupyter-widgets/base",
       "_model_module_version": "2.0.0",
       "_model_name": "LayoutModel",
       "_view_count": null,
       "_view_module": "@jupyter-widgets/base",
       "_view_module_version": "2.0.0",
       "_view_name": "LayoutView",
       "align_content": null,
       "align_items": null,
       "align_self": null,
       "border_bottom": null,
       "border_left": null,
       "border_right": null,
       "border_top": null,
       "bottom": null,
       "display": null,
       "flex": null,
       "flex_flow": null,
       "grid_area": null,
       "grid_auto_columns": null,
       "grid_auto_flow": null,
       "grid_auto_rows": null,
       "grid_column": null,
       "grid_gap": null,
       "grid_row": null,
       "grid_template_areas": null,
       "grid_template_columns": null,
       "grid_template_rows": null,
       "height": null,
       "justify_content": null,
       "justify_items": null,
       "left": null,
       "margin": null,
       "max_height": null,
       "max_width": null,
       "min_height": null,
       "min_width": null,
       "object_fit": null,
       "object_position": null,
       "order": null,
       "overflow": null,
       "padding": null,
       "right": null,
       "top": null,
       "visibility": null,
       "width": null
      }
     },
     "54d60a67ae154bbaa2aa8e1bb6f4bda6": {
      "model_module": "@jupyter-widgets/base",
      "model_module_version": "2.0.0",
      "model_name": "LayoutModel",
      "state": {
       "_model_module": "@jupyter-widgets/base",
       "_model_module_version": "2.0.0",
       "_model_name": "LayoutModel",
       "_view_count": null,
       "_view_module": "@jupyter-widgets/base",
       "_view_module_version": "2.0.0",
       "_view_name": "LayoutView",
       "align_content": null,
       "align_items": null,
       "align_self": null,
       "border_bottom": null,
       "border_left": null,
       "border_right": null,
       "border_top": null,
       "bottom": null,
       "display": null,
       "flex": null,
       "flex_flow": null,
       "grid_area": null,
       "grid_auto_columns": null,
       "grid_auto_flow": null,
       "grid_auto_rows": null,
       "grid_column": null,
       "grid_gap": null,
       "grid_row": null,
       "grid_template_areas": null,
       "grid_template_columns": null,
       "grid_template_rows": null,
       "height": null,
       "justify_content": null,
       "justify_items": null,
       "left": null,
       "margin": null,
       "max_height": null,
       "max_width": null,
       "min_height": null,
       "min_width": null,
       "object_fit": null,
       "object_position": null,
       "order": null,
       "overflow": null,
       "padding": null,
       "right": null,
       "top": null,
       "visibility": null,
       "width": null
      }
     },
     "6044706902824561aeeaca01b0c24168": {
      "model_module": "@jupyter-widgets/controls",
      "model_module_version": "2.0.0",
      "model_name": "IntSliderModel",
      "state": {
       "_dom_classes": [],
       "_model_module": "@jupyter-widgets/controls",
       "_model_module_version": "2.0.0",
       "_model_name": "IntSliderModel",
       "_view_count": null,
       "_view_module": "@jupyter-widgets/controls",
       "_view_module_version": "2.0.0",
       "_view_name": "IntSliderView",
       "behavior": "drag-tap",
       "continuous_update": true,
       "description": "i",
       "description_allow_html": false,
       "disabled": false,
       "layout": "IPY_MODEL_9cd7d0bd42f04049b190178274e51492",
       "max": 200,
       "min": 0,
       "orientation": "horizontal",
       "readout": true,
       "readout_format": "d",
       "step": 1,
       "style": "IPY_MODEL_119784c3681848ef91b72cea2fe43a5a",
       "tabbable": null,
       "tooltip": null,
       "value": 100
      }
     },
     "9cd7d0bd42f04049b190178274e51492": {
      "model_module": "@jupyter-widgets/base",
      "model_module_version": "2.0.0",
      "model_name": "LayoutModel",
      "state": {
       "_model_module": "@jupyter-widgets/base",
       "_model_module_version": "2.0.0",
       "_model_name": "LayoutModel",
       "_view_count": null,
       "_view_module": "@jupyter-widgets/base",
       "_view_module_version": "2.0.0",
       "_view_name": "LayoutView",
       "align_content": null,
       "align_items": null,
       "align_self": null,
       "border_bottom": null,
       "border_left": null,
       "border_right": null,
       "border_top": null,
       "bottom": null,
       "display": null,
       "flex": null,
       "flex_flow": null,
       "grid_area": null,
       "grid_auto_columns": null,
       "grid_auto_flow": null,
       "grid_auto_rows": null,
       "grid_column": null,
       "grid_gap": null,
       "grid_row": null,
       "grid_template_areas": null,
       "grid_template_columns": null,
       "grid_template_rows": null,
       "height": null,
       "justify_content": null,
       "justify_items": null,
       "left": null,
       "margin": null,
       "max_height": null,
       "max_width": null,
       "min_height": null,
       "min_width": null,
       "object_fit": null,
       "object_position": null,
       "order": null,
       "overflow": null,
       "padding": null,
       "right": null,
       "top": null,
       "visibility": null,
       "width": null
      }
     },
     "aee62f8a99b44954acdc20a2aa310fd5": {
      "model_module": "@jupyter-widgets/output",
      "model_module_version": "1.0.0",
      "model_name": "OutputModel",
      "state": {
       "_dom_classes": [],
       "_model_module": "@jupyter-widgets/output",
       "_model_module_version": "1.0.0",
       "_model_name": "OutputModel",
       "_view_count": null,
       "_view_module": "@jupyter-widgets/output",
       "_view_module_version": "1.0.0",
       "_view_name": "OutputView",
       "layout": "IPY_MODEL_54d60a67ae154bbaa2aa8e1bb6f4bda6",
       "msg_id": "",
       "outputs": [
        {
         "data": {
          "image/png": "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\n",
          "text/plain": "<Figure size 640x480 with 1 Axes>"
         },
         "metadata": {
          "image/png": {
           "height": 456,
           "width": 569
          }
         },
         "output_type": "display_data"
        }
       ],
       "tabbable": null,
       "tooltip": null
      }
     }
    },
    "version_major": 2,
    "version_minor": 0
   }
  }
 },
 "nbformat": 4,
 "nbformat_minor": 4
}
