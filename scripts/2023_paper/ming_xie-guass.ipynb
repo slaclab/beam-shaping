{
 "cells": [
  {
   "cell_type": "markdown",
   "metadata": {},
   "source": [
    "# Ming Xie formula"
   ]
  },
  {
   "cell_type": "code",
   "execution_count": null,
   "metadata": {
    "tags": []
   },
   "outputs": [],
   "source": [
    "import sys\n",
    "sys.path.append('/Users/nneveu/github/zfel')\n",
    "from zfel.mingxie import mingxie"
   ]
  },
  {
   "cell_type": "code",
   "execution_count": null,
   "metadata": {
    "tags": []
   },
   "outputs": [],
   "source": [
    "# Function signature\n",
    "help(mingxie)"
   ]
  },
  {
   "cell_type": "code",
   "execution_count": null,
   "metadata": {},
   "outputs": [],
   "source": [
    "# Load and get parameters from elegant files:\n",
    "top_dir         = '/Users/nneveu/github/beam-shaping/sfg'\n",
    "dcns_file       = '/joehold/100MeV/elegant_ssnl_100MeV_10mill_de_adjusted_64by512_300emission_steps.txt.out'\n",
    "#gauss_flat_file = '/jingyi/end_linac_flat_lht/SXRSTART.out' #SXRSTART_flat_laser.h5 # picture doesn't match?\n",
    "gauss_arb_file  = 'jingyi/end_linac_arb_lht/SXRSTART.out' #SXRSTART_arb_laser.h5"
   ]
  },
  {
   "cell_type": "code",
   "execution_count": null,
   "metadata": {},
   "outputs": [],
   "source": [
    "# Some test parameters\n",
    "test_params = {    \n",
    "    'sigma_x':18e-6,\n",
    "    'und_lambda':0.03,\n",
    "    'und_k':3.7,\n",
    "    'current':5000.,\n",
    "    'gamma':15000/0.511,\n",
    "    'norm_emit':1e-6,\n",
    "    'sigma_E':3e6}\n",
    "\n",
    "\n",
    "mingxie(**test_params) "
   ]
  },
  {
   "cell_type": "markdown",
   "metadata": {},
   "source": [
    "# Vectorized version\n",
    "The function will also work with inputs vectorized as numpy arrays. Here is an example scanning sigma_x"
   ]
  },
  {
   "cell_type": "code",
   "execution_count": null,
   "metadata": {},
   "outputs": [],
   "source": [
    "import numpy as np\n",
    "import matplotlib.pyplot as plt\n",
    "%matplotlib inline"
   ]
  },
  {
   "cell_type": "code",
   "execution_count": null,
   "metadata": {},
   "outputs": [],
   "source": [
    "n = 20\n",
    "test_params2 = {}\n",
    "# Duplicate all values\n",
    "for k,v in test_params.items():\n",
    "    test_params2[k] = np.array(n*[v])\n",
    "\n",
    "# Vary sigma_x \n",
    "sx0 = test_params['sigma_x']\n",
    "sx1 = 2*sx0\n",
    "test_params2['sigma_x'] = np.linspace(sx0, sx1, n)    \n",
    "\n",
    "# Calculate\n",
    "result = mingxie(**test_params2)   \n",
    "result"
   ]
  },
  {
   "cell_type": "code",
   "execution_count": null,
   "metadata": {},
   "outputs": [],
   "source": [
    "# Plot\n",
    "fig, ax = plt.subplots()\n",
    "ax.set_xlabel('sigma_x (um)')\n",
    "ax.set_ylabel('Gain length (m)')\n",
    "ax.plot(1e6*test_params2['sigma_x'], result['gain_length'])"
   ]
  },
  {
   "cell_type": "markdown",
   "metadata": {},
   "source": [
    "# Contour plot\n",
    "\n",
    "Reproduction of a plot similar to Figure 2 in the originam Ming Xie paper"
   ]
  },
  {
   "cell_type": "code",
   "execution_count": null,
   "metadata": {},
   "outputs": [],
   "source": [
    "i_x =20\n",
    "i_y = 20\n",
    "felwave = 1.5e-10\n",
    "beta = 18\n",
    "undL = 0.03\n",
    "K = 3.7\n",
    "sigmae = 3e6\n",
    "I = np.linspace(2000, 8000, i_x)\n",
    "norm_emit = np.linspace(0.5e-6, 2.5e-6, i_y);\n",
    "gamma=np.sqrt(undL*(1+K**2/2)/2/felwave)\n",
    "sigma_x = np.sqrt(beta*norm_emit/gamma)\n",
    "\n",
    "test_params = {    \n",
    "    'sigma_x':sigma_x[0],\n",
    "    'und_lambda':undL,\n",
    "    'und_k':K,\n",
    "    'current':5000.,\n",
    "    'gamma':gamma,\n",
    "    'norm_emit':1e-6,\n",
    "    'sigma_E':sigmae\n",
    "}\n",
    "\n",
    "X,Y = np.meshgrid(I, norm_emit)\n",
    "\n",
    "contour = np.zeros((i_y, i_x))\n",
    "for i in range(0, len(sigma_x)):\n",
    "    test_params['current'] = X[i]\n",
    "    test_params['norm_emit'] = Y[i]\n",
    "    test_params['sigma_x'] = sigma_x[i]\n",
    "    out = mingxie(**test_params)\n",
    "    contour[i][:] = out['saturation_length']\n",
    "\n",
    "fig, ax = plt.subplots()\n",
    "c = ax.contour(X/1000, Y*1e6, contour, 25)\n",
    "ax.clabel(c, inline=1, fontsize=10, fmt='%1.1f')\n",
    "ax.set_title('Saturation Length (m)')\n",
    "ax.set_ylabel('Normalized Emittance (mm-mrad)')\n",
    "ax.set_xlabel('Current (kA)')"
   ]
  }
 ],
 "metadata": {
  "kernelspec": {
   "display_name": "Python 3 (ipykernel)",
   "language": "python",
   "name": "python3"
  },
  "language_info": {
   "codemirror_mode": {
    "name": "ipython",
    "version": 3
   },
   "file_extension": ".py",
   "mimetype": "text/x-python",
   "name": "python",
   "nbconvert_exporter": "python",
   "pygments_lexer": "ipython3",
   "version": "3.8.12"
  }
 },
 "nbformat": 4,
 "nbformat_minor": 4
}
