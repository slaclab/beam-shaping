{
 "cells": [
  {
   "cell_type": "code",
   "execution_count": null,
   "id": "f4761107-6da1-4859-bc51-12cfac8f13c0",
   "metadata": {},
   "outputs": [],
   "source": [
    "import numpy as np\n",
    "import matplotlib.pyplot as plt"
   ]
  },
  {
   "cell_type": "code",
   "execution_count": null,
   "id": "675a0e15-0c76-4e7f-91d5-288057827b2a",
   "metadata": {},
   "outputs": [],
   "source": [
    "import sys\n",
    "sys.path.append('/Users/nneveu/github/pyOPALTools')\n",
    "import opal.opal as op"
   ]
  },
  {
   "cell_type": "code",
   "execution_count": null,
   "id": "f4b40e51-67bf-44e7-9c38-d44a104eade1",
   "metadata": {},
   "outputs": [],
   "source": [
    "from opal.datasets.StatDataset import *\n",
    "\n",
    "class StatWrapper:\n",
    "\n",
    "    def __init__(self, directory, fname):\n",
    "        self._stat = StatDataset(directory, fname)\n",
    "\n",
    "    def __getitem__(self, variable):\n",
    "        return self._stat.getData(variable)"
   ]
  },
  {
   "cell_type": "code",
   "execution_count": null,
   "id": "682f15ed-0a5b-4df8-b005-c0c9ce8da996",
   "metadata": {},
   "outputs": [],
   "source": [
    "stat = StatWrapper('AWAGun-TrackBack-1', 'AWAGun-TrackBack-1.stat')\n",
    "ref  = StatWrapper('AWAGun-TrackBack-1/reference', 'AWAGun-TrackBack-1.stat')"
   ]
  },
  {
   "cell_type": "code",
   "execution_count": null,
   "id": "d6db50dc-d686-44f4-88bf-57927a7d6549",
   "metadata": {},
   "outputs": [],
   "source": [
    "plt.plot(stat['s'], stat['rms_x'], 'o')\n",
    "plt.plot(ref['s'], ref['rms_x'])"
   ]
  },
  {
   "cell_type": "code",
   "execution_count": null,
   "id": "a41c30a7-0694-4128-93f5-ab5bc712e205",
   "metadata": {},
   "outputs": [],
   "source": [
    "plt.plot(stat['s'], stat['emit_x']*10**6, 'o')\n",
    "plt.plot(ref['s'], ref['emit_x']*10**6)\n",
    "plt.ylim(0,200)"
   ]
  },
  {
   "cell_type": "code",
   "execution_count": null,
   "id": "5d265427-197a-4fe6-a204-e6e598cf7610",
   "metadata": {},
   "outputs": [],
   "source": [
    "plt.plot(stat['s'], stat['emit_x']*10**6, 'o')\n",
    "plt.plot(ref['s'], ref['emit_x']*10**6)\n",
    "plt.ylim(0,7)"
   ]
  },
  {
   "cell_type": "code",
   "execution_count": null,
   "id": "e25f963e-766e-4522-b882-a275f2878a0f",
   "metadata": {},
   "outputs": [],
   "source": []
  },
  {
   "cell_type": "code",
   "execution_count": null,
   "id": "0c6cca0a-f883-43da-9728-1ffa294ce29f",
   "metadata": {},
   "outputs": [],
   "source": []
  }
 ],
 "metadata": {
  "kernelspec": {
   "display_name": "Python 3 (ipykernel)",
   "language": "python",
   "name": "python3"
  },
  "language_info": {
   "codemirror_mode": {
    "name": "ipython",
    "version": 3
   },
   "file_extension": ".py",
   "mimetype": "text/x-python",
   "name": "python",
   "nbconvert_exporter": "python",
   "pygments_lexer": "ipython3",
   "version": "3.8.12"
  }
 },
 "nbformat": 4,
 "nbformat_minor": 5
}
